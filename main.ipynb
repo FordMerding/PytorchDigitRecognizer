{
 "cells": [
  {
   "cell_type": "code",
   "execution_count": 21,
   "metadata": {},
   "outputs": [],
   "source": [
    "import torch\n",
    "from torch import nn\n",
    "from torch.utils.data import DataLoader\n",
    "import dataloader as dl\n",
    "import network\n",
    "import matplotlib"
   ]
  },
  {
   "cell_type": "code",
   "execution_count": 22,
   "metadata": {},
   "outputs": [
    {
     "name": "stdout",
     "output_type": "stream",
     "text": [
      "Using cpu device\n"
     ]
    }
   ],
   "source": [
    "\n",
    "device = (\n",
    "    \"cuda\"\n",
    "    if torch.cuda.is_available()\n",
    "    else \"mps\"\n",
    "    if torch.backends.mps.is_available()\n",
    "    else \"cpu\"\n",
    ")\n",
    "print(f\"Using {device} device\")"
   ]
  },
  {
   "cell_type": "code",
   "execution_count": 23,
   "metadata": {},
   "outputs": [],
   "source": [
    "model = network.Network().to(device)"
   ]
  },
  {
   "cell_type": "code",
   "execution_count": 24,
   "metadata": {},
   "outputs": [],
   "source": [
    "loss_fn = nn.CrossEntropyLoss()\n",
    "optimizer = torch.optim.SGD(model.parameters(), lr=1e-1)"
   ]
  },
  {
   "cell_type": "code",
   "execution_count": 25,
   "metadata": {},
   "outputs": [],
   "source": [
    "batch_size = 64\n",
    "\n",
    "training_data = dl.MNISTData('./data/')\n",
    "test_data = dl.MNISTData('./data/', train=False)\n",
    "train_dataloader = DataLoader(training_data, batch_size=batch_size, shuffle = True)\n",
    "test_dataloader = DataLoader(test_data, batch_size=batch_size)\n"
   ]
  },
  {
   "cell_type": "code",
   "execution_count": 26,
   "metadata": {},
   "outputs": [],
   "source": [
    "def train(dataloader, model, loss_fn, optimizer):\n",
    "    model.train()\n",
    "    for batch, (X, y) in enumerate(dataloader):\n",
    "        X, y = X.to(device), y.to(device)\n",
    "\n",
    "        # Compute prediction error\n",
    "        pred = model(X)\n",
    "        loss = loss_fn(pred, y)\n",
    "\n",
    "        # Backpropagation\n",
    "        loss.backward()\n",
    "        optimizer.step()\n",
    "        optimizer.zero_grad()\n",
    "\n",
    "        if batch % 100 == 0:\n",
    "            losses.append(loss.item())\n",
    "    # return losses\n",
    "def test(dataloader, model, loss_fn):\n",
    "    size = len(dataloader.dataset)\n",
    "    num_batches = len(dataloader)\n",
    "    model.eval()\n",
    "    test_loss, correct = 0, 0\n",
    "    with torch.no_grad():\n",
    "        for X, y in dataloader:\n",
    "            X, y = X.to(device), y.to(device)\n",
    "            pred = model(X)\n",
    "            test_loss += loss_fn(pred, y).item()\n",
    "            correct += (pred.argmax(1) == y).type(torch.float).sum().item()\n",
    "    test_loss /= num_batches\n",
    "    correct /= size\n",
    "    print(f\"Test Error: \\n Accuracy: {(100*correct):>0.1f}%, Avg loss: {test_loss:>8f} \\n\")"
   ]
  },
  {
   "cell_type": "code",
   "execution_count": 28,
   "metadata": {},
   "outputs": [
    {
     "name": "stdout",
     "output_type": "stream",
     "text": [
      "Epoch 1 completed!\n",
      "Test Error: \n",
      " Accuracy: 22.6%, Avg loss: 2.072363 \n",
      "\n",
      "Epoch 2 completed!\n",
      "Test Error: \n",
      " Accuracy: 24.3%, Avg loss: 2.025651 \n",
      "\n",
      "Epoch 3 completed!\n",
      "Test Error: \n",
      " Accuracy: 20.6%, Avg loss: 2.006026 \n",
      "\n",
      "Epoch 4 completed!\n",
      "Test Error: \n",
      " Accuracy: 19.0%, Avg loss: 2.008230 \n",
      "\n",
      "Epoch 5 completed!\n",
      "Test Error: \n",
      " Accuracy: 19.2%, Avg loss: 1.982603 \n",
      "\n",
      "Epoch 6 completed!\n",
      "Test Error: \n",
      " Accuracy: 19.5%, Avg loss: 1.968141 \n",
      "\n",
      "Epoch 7 completed!\n",
      "Test Error: \n",
      " Accuracy: 19.2%, Avg loss: 1.975435 \n",
      "\n",
      "Epoch 8 completed!\n",
      "Test Error: \n",
      " Accuracy: 19.2%, Avg loss: 1.966563 \n",
      "\n",
      "Epoch 9 completed!\n",
      "Test Error: \n",
      " Accuracy: 18.9%, Avg loss: 1.951941 \n",
      "\n",
      "Epoch 10 completed!\n",
      "Test Error: \n",
      " Accuracy: 18.9%, Avg loss: 1.932532 \n",
      "\n"
     ]
    }
   ],
   "source": [
    "epochs = 10\n",
    "for epoch in range(1, epochs+1):\n",
    "    train(train_dataloader, model, loss_fn, optimizer)\n",
    "    print(f\"Epoch {epoch} completed!\")\n",
    "    test(test_dataloader, model, loss_fn)"
   ]
  }
 ],
 "metadata": {
  "kernelspec": {
   "display_name": "Python 3",
   "language": "python",
   "name": "python3"
  },
  "language_info": {
   "codemirror_mode": {
    "name": "ipython",
    "version": 3
   },
   "file_extension": ".py",
   "mimetype": "text/x-python",
   "name": "python",
   "nbconvert_exporter": "python",
   "pygments_lexer": "ipython3",
   "version": "3.12.3"
  }
 },
 "nbformat": 4,
 "nbformat_minor": 2
}
